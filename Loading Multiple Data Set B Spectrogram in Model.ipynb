{
 "cells": [
  {
   "cell_type": "code",
   "execution_count": 1,
   "metadata": {
    "collapsed": false,
    "scrolled": true
   },
   "outputs": [
    {
     "name": "stdout",
     "output_type": "stream",
     "text": [
      "./heartbeat-sounds/set_b/normal__103_1305031931979_B.wav\n",
      "./heartbeat-sounds/set_b/normal__103_1305031931979_D1.wav\n",
      "./heartbeat-sounds/set_b/normal__103_1305031931979_D2.wav\n",
      "./heartbeat-sounds/set_b/normal__103_1305031931979_D3.wav\n",
      "./heartbeat-sounds/set_b/normal__106_1306776721273_B1.wav\n",
      "./heartbeat-sounds/set_b/normal__106_1306776721273_C1.wav\n",
      "./heartbeat-sounds/set_b/normal__106_1306776721273_C2.wav\n",
      "./heartbeat-sounds/set_b/normal__106_1306776721273_D1.wav\n",
      "./heartbeat-sounds/set_b/normal__106_1306776721273_D2.wav\n",
      "./heartbeat-sounds/set_b/normal__107_1305654946865_C1.wav\n",
      "./heartbeat-sounds/set_b/normal__109_1305653646620_C.wav\n",
      "./heartbeat-sounds/set_b/normal__113_1306244002866_D.wav\n",
      "./heartbeat-sounds/set_b/normal__115_1306259437619_C.wav\n",
      "./heartbeat-sounds/set_b/normal__117_1306262456650_B.wav\n",
      "./heartbeat-sounds/set_b/normal__125_1306332456645_B.wav\n",
      "./heartbeat-sounds/set_b/normal__126_1306777102824_B.wav\n",
      "./heartbeat-sounds/set_b/normal__126_1306777102824_C.wav\n",
      "./heartbeat-sounds/set_b/normal__126_1306777102824_D.wav\n",
      "./heartbeat-sounds/set_b/normal__127_1306764300147_A.wav\n",
      "./heartbeat-sounds/set_b/normal__127_1306764300147_B.wav\n",
      "./heartbeat-sounds/set_b/normal__127_1306764300147_C1.wav\n",
      "./heartbeat-sounds/set_b/normal__128_1306344005749_B.wav\n",
      "./heartbeat-sounds/set_b/normal__128_1306344005749_D.wav\n",
      "./heartbeat-sounds/set_b/normal__128_1306344005749_D1.wav\n",
      "./heartbeat-sounds/set_b/normal__129_1306344506305_B1.wav\n",
      "./heartbeat-sounds/set_b/normal__129_1306344506305_D.wav\n",
      "./heartbeat-sounds/set_b/normal__129_1306344506305_D1.wav\n",
      "./heartbeat-sounds/set_b/normal__133_1306759619127_A.wav\n",
      "./heartbeat-sounds/set_b/normal__133_1306759619127_B.wav\n",
      "./heartbeat-sounds/set_b/normal__133_1306759619127_D.wav\n",
      "./heartbeat-sounds/set_b/normal__134_1306428161797_C.wav\n",
      "./heartbeat-sounds/set_b/normal__134_1306428161797_C2.wav\n",
      "./heartbeat-sounds/set_b/normal__134_1306428161797_D.wav\n",
      "./heartbeat-sounds/set_b/normal__137_1306764999211_C.wav\n",
      "./heartbeat-sounds/set_b/normal__137_1306764999211_D.wav\n",
      "./heartbeat-sounds/set_b/normal__139_1306519274653_A.wav\n",
      "./heartbeat-sounds/set_b/normal__140_1306519735121_A.wav\n",
      "./heartbeat-sounds/set_b/normal__140_1306519735121_B.wav\n",
      "./heartbeat-sounds/set_b/normal__140_1306519735121_D1.wav\n",
      "./heartbeat-sounds/set_b/normal__141_1306520154450_B.wav\n",
      "./heartbeat-sounds/set_b/normal__141_1306520154450_C.wav\n",
      "./heartbeat-sounds/set_b/normal__143_1306763822290_B.wav\n",
      "./heartbeat-sounds/set_b/normal__143_1306763822290_C.wav\n",
      "./heartbeat-sounds/set_b/normal__145_1307987561278_B.wav\n",
      "./heartbeat-sounds/set_b/normal__145_1307987561278_C.wav\n",
      "./heartbeat-sounds/set_b/normal__146_1306778707532_A.wav\n",
      "./heartbeat-sounds/set_b/normal__146_1306778707532_B.wav\n",
      "./heartbeat-sounds/set_b/normal__146_1306778707532_D1.wav\n",
      "./heartbeat-sounds/set_b/normal__146_1306778707532_D2.wav\n",
      "./heartbeat-sounds/set_b/normal__146_1306778707532_D3.wav\n",
      "./heartbeat-sounds/set_b/normal__146_1306778707532_D4.wav\n",
      "./heartbeat-sounds/set_b/normal__147_1306523973811_A.wav\n",
      "./heartbeat-sounds/set_b/normal__147_1306523973811_C.wav\n",
      "./heartbeat-sounds/set_b/normal__148_1306768801551_C1.wav\n",
      "./heartbeat-sounds/set_b/normal__148_1306768801551_D2.wav\n",
      "./heartbeat-sounds/set_b/normal__149_1306776016110_B.wav\n",
      "./heartbeat-sounds/set_b/normal__149_1306776016110_C1.wav\n",
      "./heartbeat-sounds/set_b/normal__150_1306776340746_B.wav\n",
      "./heartbeat-sounds/set_b/normal__150_1306776340746_C.wav\n",
      "./heartbeat-sounds/set_b/normal__151_1306779785624_A.wav\n",
      "./heartbeat-sounds/set_b/normal__151_1306779785624_D.wav\n",
      "./heartbeat-sounds/set_b/normal__152_1306779561195_B1.wav\n",
      "./heartbeat-sounds/set_b/normal__152_1306779561195_C1.wav\n",
      "./heartbeat-sounds/set_b/normal__152_1306779561195_D.wav\n",
      "./heartbeat-sounds/set_b/normal__153_1306848820671_A.wav\n",
      "./heartbeat-sounds/set_b/normal__153_1306848820671_B.wav\n",
      "./heartbeat-sounds/set_b/normal__153_1306848820671_B1.wav\n",
      "./heartbeat-sounds/set_b/normal__153_1306848820671_D1.wav\n",
      "./heartbeat-sounds/set_b/normal__154_1306935608852_A1.wav\n",
      "./heartbeat-sounds/set_b/normal__154_1306935608852_B.wav\n",
      "./heartbeat-sounds/set_b/normal__154_1306935608852_B1.wav\n",
      "./heartbeat-sounds/set_b/normal__154_1306935608852_D.wav\n",
      "./heartbeat-sounds/set_b/normal__155_1306935902813_B1.wav\n",
      "./heartbeat-sounds/set_b/normal__158_1306947254705_B2.wav\n",
      "./heartbeat-sounds/set_b/normal__159_1307018640315_A.wav\n",
      "./heartbeat-sounds/set_b/normal__159_1307018640315_B1.wav\n",
      "./heartbeat-sounds/set_b/normal__159_1307018640315_B2.wav\n",
      "./heartbeat-sounds/set_b/normal__159_1307018640315_C1.wav\n",
      "./heartbeat-sounds/set_b/normal__167_1307111318050_A.wav\n",
      "./heartbeat-sounds/set_b/normal__167_1307111318050_C.wav\n",
      "./heartbeat-sounds/set_b/normal__168_1307970069434_A.wav\n",
      "./heartbeat-sounds/set_b/normal__168_1307970069434_A2.wav\n",
      "./heartbeat-sounds/set_b/normal__169_1307970398039_C.wav\n",
      "./heartbeat-sounds/set_b/normal__170_1307970562729_A.wav\n",
      "./heartbeat-sounds/set_b/normal__170_1307970562729_B.wav\n",
      "./heartbeat-sounds/set_b/normal__170_1307970562729_C.wav\n",
      "./heartbeat-sounds/set_b/normal__172_1307971284351_B.wav\n",
      "./heartbeat-sounds/set_b/normal__172_1307971284351_B1.wav\n",
      "./heartbeat-sounds/set_b/normal__173_1307973611151_B.wav\n",
      "./heartbeat-sounds/set_b/normal__173_1307973611151_C.wav\n",
      "./heartbeat-sounds/set_b/normal__174_1307987737137_B.wav\n",
      "./heartbeat-sounds/set_b/normal__174_1307987737137_B1.wav\n",
      "./heartbeat-sounds/set_b/normal__175_1307987962616_B.wav\n",
      "./heartbeat-sounds/set_b/normal__175_1307987962616_B1.wav\n",
      "./heartbeat-sounds/set_b/normal__175_1307987962616_D.wav\n",
      "./heartbeat-sounds/set_b/normal__176_1307988171173_A.wav\n",
      "./heartbeat-sounds/set_b/normal__176_1307988171173_B.wav\n",
      "./heartbeat-sounds/set_b/normal__176_1307988171173_B1.wav\n",
      "./heartbeat-sounds/set_b/normal__177_1307989650056_A1.wav\n",
      "./heartbeat-sounds/set_b/normal__177_1307989650056_B.wav\n",
      "./heartbeat-sounds/set_b/normal__177_1307989650056_D.wav\n",
      "./heartbeat-sounds/set_b/normal__177_1307989650056_D1.wav\n",
      "./heartbeat-sounds/set_b/normal__178_1307989887769_B.wav\n",
      "./heartbeat-sounds/set_b/normal__178_1307989887769_D.wav\n",
      "./heartbeat-sounds/set_b/normal__179_1307990076841_B.wav\n",
      "./heartbeat-sounds/set_b/normal__179_1307990076841_D.wav\n",
      "./heartbeat-sounds/set_b/normal__180_1307990956284_A.wav\n",
      "./heartbeat-sounds/set_b/normal__180_1307990956284_C.wav\n",
      "./heartbeat-sounds/set_b/normal__181_1308052613891_B.wav\n",
      "./heartbeat-sounds/set_b/normal__181_1308052613891_D.wav\n",
      "./heartbeat-sounds/set_b/normal__183_1308072703477_B.wav\n",
      "./heartbeat-sounds/set_b/normal__183_1308072703477_C.wav\n",
      "./heartbeat-sounds/set_b/normal__184_1308073010307_B.wav\n",
      "./heartbeat-sounds/set_b/normal__184_1308073010307_D.wav\n",
      "./heartbeat-sounds/set_b/normal__186_1308073648738_C1.wav\n",
      "./heartbeat-sounds/set_b/normal__186_1308073648738_D.wav\n",
      "./heartbeat-sounds/set_b/normal__188_1308074301731_C.wav\n",
      "./heartbeat-sounds/set_b/normal__188_1308074301731_D.wav\n",
      "./heartbeat-sounds/set_b/normal__190_1308076920011_C1.wav\n",
      "./heartbeat-sounds/set_b/normal__190_1308076920011_D.wav\n",
      "./heartbeat-sounds/set_b/normal__191_1308077299430_B.wav\n",
      "./heartbeat-sounds/set_b/normal__194_1308139824187_A.wav\n",
      "./heartbeat-sounds/set_b/normal__194_1308139824187_A1.wav\n",
      "./heartbeat-sounds/set_b/normal__198_1308141739338_C.wav\n",
      "./heartbeat-sounds/set_b/normal__201_1308144942432_A.wav\n",
      "./heartbeat-sounds/set_b/normal__201_1308144942432_A1.wav\n",
      "./heartbeat-sounds/set_b/normal__202_1308145175747_C.wav\n",
      "./heartbeat-sounds/set_b/normal__202_1308145175747_D.wav\n",
      "./heartbeat-sounds/set_b/normal__204_1308159229275_C.wav\n",
      "./heartbeat-sounds/set_b/normal__204_1308159229275_D.wav\n",
      "./heartbeat-sounds/set_b/normal__206_1308159601959_C.wav\n",
      "./heartbeat-sounds/set_b/normal__207_1308159792607_C.wav\n",
      "./heartbeat-sounds/set_b/normal__208_1308159994503_C.wav\n",
      "./heartbeat-sounds/set_b/normal__209_1308162216750_A.wav\n",
      "./heartbeat-sounds/set_b/normal__209_1308162216750_A1.wav\n",
      "./heartbeat-sounds/set_b/normal__210_1308162935880_B.wav\n",
      "./heartbeat-sounds/set_b/normal__210_1308162935880_B1.wav\n",
      "./heartbeat-sounds/set_b/normal__210_1308162935880_D1.wav\n",
      "./heartbeat-sounds/set_b/normal__210_1308162935880_D2.wav\n",
      "./heartbeat-sounds/set_b/normal__213_1308245263936_C.wav\n",
      "./heartbeat-sounds/set_b/normal__214_1308245489717_A.wav\n",
      "./heartbeat-sounds/set_b/normal__215_1308245664733_C.wav\n",
      "./heartbeat-sounds/set_b/normal__215_1308245664733_C1.wav\n",
      "./heartbeat-sounds/set_b/normal__216_1308245839516_C.wav\n",
      "./heartbeat-sounds/set_b/normal__217_1308246111629_C.wav\n",
      "./heartbeat-sounds/set_b/normal__217_1308246111629_C1.wav\n",
      "./heartbeat-sounds/set_b/normal__218_1308246311449_C.wav\n",
      "./heartbeat-sounds/set_b/normal__218_1308246311449_C1.wav\n",
      "./heartbeat-sounds/set_b/normal__220_1308250132896_C.wav\n",
      "./heartbeat-sounds/set_b/normal__220_1308250132896_D.wav\n",
      "./heartbeat-sounds/set_b/normal__224_1308337157445_C.wav\n",
      "./heartbeat-sounds/set_b/normal__227_1308594233667_B.wav\n",
      "./heartbeat-sounds/set_b/normal__227_1308594233667_C.wav\n",
      "./heartbeat-sounds/set_b/normal__230_1308595300880_B.wav\n",
      "./heartbeat-sounds/set_b/normal__230_1308595300880_C.wav\n",
      "./heartbeat-sounds/set_b/normal__232_1308748524018_A.wav\n",
      "./heartbeat-sounds/set_b/normal__232_1308748524018_B.wav\n",
      "./heartbeat-sounds/set_b/normal__232_1308748524018_B1.wav\n",
      "./heartbeat-sounds/set_b/normal__232_1308748524018_C.wav\n",
      "./heartbeat-sounds/set_b/normal__232_1308748524018_D1.wav\n",
      "./heartbeat-sounds/set_b/normal__235_1308749032454_C.wav\n",
      "./heartbeat-sounds/set_b/normal__235_1308749032454_D.wav\n",
      "./heartbeat-sounds/set_b/normal__237_1308750231222_C.wav\n",
      "./heartbeat-sounds/set_b/normal__238_1309194586293_A.wav\n",
      "./heartbeat-sounds/set_b/normal__238_1309194586293_B.wav\n",
      "./heartbeat-sounds/set_b/normal__250_1309202496494_A.wav\n",
      "./heartbeat-sounds/set_b/normal__250_1309202496494_B.wav\n",
      "./heartbeat-sounds/set_b/normal__252_1309203336604_B.wav\n",
      "./heartbeat-sounds/set_b/normal__256_1309351470137_A.wav\n",
      "./heartbeat-sounds/set_b/normal__258_1309352253234_C.wav\n",
      "./heartbeat-sounds/set_b/normal__260_1309353164458_C.wav\n",
      "./heartbeat-sounds/set_b/normal__261_1309353556003_B.wav\n",
      "./heartbeat-sounds/set_b/normal__262_1309355283807_A.wav\n",
      "./heartbeat-sounds/set_b/normal__267_1309368735165_A.wav\n",
      "./heartbeat-sounds/set_b/normal__270_1309369533040_C.wav\n",
      "./heartbeat-sounds/set_b/normal__273_1309370841191_B.wav\n",
      "./heartbeat-sounds/set_b/normal__274_1311075637574_A1.wav\n",
      "./heartbeat-sounds/set_b/normal__274_1311075637574_B.wav\n",
      "./heartbeat-sounds/set_b/normal__274_1311075637574_B1.wav\n",
      "./heartbeat-sounds/set_b/normal__274_1311075637574_D.wav\n",
      "./heartbeat-sounds/set_b/normal__278_1311163365896_A.wav\n",
      "./heartbeat-sounds/set_b/normal__278_1311163365896_A1.wav\n",
      "./heartbeat-sounds/set_b/normal__280_1311165195344_A.wav\n",
      "./heartbeat-sounds/set_b/normal__282_1311166081161_C.wav\n",
      "./heartbeat-sounds/set_b/normal__283_1311167409239_A.wav\n",
      "./heartbeat-sounds/set_b/normal__286_1311170606028_A.wav\n",
      "./heartbeat-sounds/set_b/normal__286_1311170606028_A1.wav\n",
      "./heartbeat-sounds/set_b/normal__286_1311170606028_B1.wav\n",
      "./heartbeat-sounds/set_b/normal__286_1311170606028_C.wav\n",
      "./heartbeat-sounds/set_b/normal__290_1311182875320_A.wav\n",
      "./heartbeat-sounds/set_b/normal__291_1311185210672_A.wav\n",
      "./heartbeat-sounds/set_b/normal__294_1311681084248_A.wav\n",
      "./heartbeat-sounds/set_b/normal__294_1311681084248_B.wav\n",
      "./heartbeat-sounds/set_b/normal__294_1311681084248_D1.wav\n",
      "./heartbeat-sounds/set_b/normal__295_1311682673157_D.wav\n",
      "./heartbeat-sounds/set_b/normal__296_1311682952647_A1.wav\n",
      "./heartbeat-sounds/set_b/normal__296_1311682952647_A2.wav\n",
      "./heartbeat-sounds/set_b/normal__298_1311685888900_B.wav\n",
      "./heartbeat-sounds/set_b/normal__299_1311770522820_C.wav\n",
      "./heartbeat-sounds/set_b/normal__300_1311772096120_C1.wav\n"
     ]
    }
   ],
   "source": [
    "import wave\n",
    "import fnmatch\n",
    "import os\n",
    "import pandas as pd\n",
    "import struct\n",
    "\n",
    "import numpy as np\n",
    "\n",
    "normal_df = pd.DataFrame()\n",
    "directory = './heartbeat-sounds/set_b/'\n",
    "\n",
    "for filename in os.listdir(directory):\n",
    "    if filename.endswith(\".wav\") and fnmatch.fnmatch(filename, '*normal__*'):\n",
    "        FNAME = os.path.join(directory, filename)\n",
    "        print(FNAME)\n",
    "        \n",
    "        f = wave.open(FNAME)\n",
    "        frames = f.readframes(-1)\n",
    "        samples = struct.unpack('h'*f.getnframes(), frames)\n",
    "               \n",
    "        temp_df = pd.DataFrame(list(samples))\n",
    "        normal_df = normal_df.append(temp_df.T,ignore_index=True)\n",
    "        \n",
    "        continue\n",
    "    else:\n",
    "        continue"
   ]
  },
  {
   "cell_type": "code",
   "execution_count": 2,
   "metadata": {
    "collapsed": false
   },
   "outputs": [
    {
     "name": "stdout",
     "output_type": "stream",
     "text": [
      "(200, 58720)\n"
     ]
    }
   ],
   "source": [
    "print(normal_df.shape)"
   ]
  },
  {
   "cell_type": "code",
   "execution_count": 3,
   "metadata": {
    "collapsed": false,
    "scrolled": true
   },
   "outputs": [
    {
     "name": "stdout",
     "output_type": "stream",
     "text": [
      "(160, 44100)\n"
     ]
    }
   ],
   "source": [
    "x = pd.DataFrame()\n",
    "x = normal_df.T[:44100]\n",
    "x_train = np.array(x.T[:160])\n",
    "print(x_train.shape)"
   ]
  },
  {
   "cell_type": "code",
   "execution_count": 4,
   "metadata": {
    "collapsed": false
   },
   "outputs": [
    {
     "name": "stdout",
     "output_type": "stream",
     "text": [
      "(160, 1, 44100)\n"
     ]
    }
   ],
   "source": [
    "x_train = x_train.reshape(x_train.shape[0], 1, 44100)\n",
    "print(x_train.shape)"
   ]
  },
  {
   "cell_type": "code",
   "execution_count": 5,
   "metadata": {
    "collapsed": false
   },
   "outputs": [
    {
     "name": "stdout",
     "output_type": "stream",
     "text": [
      "(20, 44100)\n"
     ]
    }
   ],
   "source": [
    "x_test = np.array(x.T[160:180])\n",
    "print(x_test.shape)"
   ]
  },
  {
   "cell_type": "code",
   "execution_count": 6,
   "metadata": {
    "collapsed": false
   },
   "outputs": [
    {
     "name": "stdout",
     "output_type": "stream",
     "text": [
      "(20, 44100)\n"
     ]
    }
   ],
   "source": [
    "x_validate = np.array(x.T[180:])\n",
    "print(x_validate.shape)"
   ]
  },
  {
   "cell_type": "code",
   "execution_count": 7,
   "metadata": {
    "collapsed": false
   },
   "outputs": [
    {
     "name": "stdout",
     "output_type": "stream",
     "text": [
      "./heartbeat-sounds/set_b/murmur__112_1306243000964_A.wav\n",
      "./heartbeat-sounds/set_b/murmur__112_1306243000964_B.wav\n",
      "./heartbeat-sounds/set_b/murmur__112_1306243000964_D.wav\n",
      "./heartbeat-sounds/set_b/murmur__116_1306258689913_A.wav\n",
      "./heartbeat-sounds/set_b/murmur__116_1306258689913_C.wav\n",
      "./heartbeat-sounds/set_b/murmur__116_1306258689913_D.wav\n",
      "./heartbeat-sounds/set_b/murmur__122_1306325762831_C.wav\n",
      "./heartbeat-sounds/set_b/murmur__122_1306325762831_D.wav\n",
      "./heartbeat-sounds/set_b/murmur__156_1306936373241_B.wav\n",
      "./heartbeat-sounds/set_b/murmur__160_1307100683334_A.wav\n",
      "./heartbeat-sounds/set_b/murmur__160_1307100683334_B.wav\n",
      "./heartbeat-sounds/set_b/murmur__161_1307101199321_A.wav\n",
      "./heartbeat-sounds/set_b/murmur__162_1307101835989_A.wav\n",
      "./heartbeat-sounds/set_b/murmur__162_1307101835989_B.wav\n",
      "./heartbeat-sounds/set_b/murmur__164_1307106095995_B.wav\n",
      "./heartbeat-sounds/set_b/murmur__164_1307106095995_C.wav\n",
      "./heartbeat-sounds/set_b/murmur__165_1307109069581_C.wav\n",
      "./heartbeat-sounds/set_b/murmur__165_1307109069581_C2.wav\n",
      "./heartbeat-sounds/set_b/murmur__171_1307971016233_D.wav\n",
      "./heartbeat-sounds/set_b/murmur__171_1307971016233_D1.wav\n",
      "./heartbeat-sounds/set_b/murmur__171_1307971016233_E.wav\n",
      "./heartbeat-sounds/set_b/murmur__185_1308073325396_B.wav\n",
      "./heartbeat-sounds/set_b/murmur__185_1308073325396_C.wav\n",
      "./heartbeat-sounds/set_b/murmur__193_1308078104592_B.wav\n",
      "./heartbeat-sounds/set_b/murmur__193_1308078104592_C.wav\n",
      "./heartbeat-sounds/set_b/murmur__193_1308078104592_C1.wav\n",
      "./heartbeat-sounds/set_b/murmur__195_1308140095331_A.wav\n",
      "./heartbeat-sounds/set_b/murmur__195_1308140095331_C.wav\n",
      "./heartbeat-sounds/set_b/murmur__195_1308140095331_C1.wav\n",
      "./heartbeat-sounds/set_b/murmur__196_1308141034858_B.wav\n",
      "./heartbeat-sounds/set_b/murmur__196_1308141034858_C.wav\n",
      "./heartbeat-sounds/set_b/murmur__197_1308141235553_A.wav\n",
      "./heartbeat-sounds/set_b/murmur__197_1308141235553_C.wav\n",
      "./heartbeat-sounds/set_b/murmur__197_1308141235553_D.wav\n",
      "./heartbeat-sounds/set_b/murmur__200_1308144251434_C.wav\n",
      "./heartbeat-sounds/set_b/murmur__200_1308144251434_D.wav\n",
      "./heartbeat-sounds/set_b/murmur__203_1308162026258_B.wav\n",
      "./heartbeat-sounds/set_b/murmur__203_1308162026258_C1.wav\n",
      "./heartbeat-sounds/set_b/murmur__203_1308162026258_D.wav\n",
      "./heartbeat-sounds/set_b/murmur__204_1308159229275_B.wav\n",
      "./heartbeat-sounds/set_b/murmur__211_1308163238707_C.wav\n",
      "./heartbeat-sounds/set_b/murmur__223_1308337062581_D.wav\n",
      "./heartbeat-sounds/set_b/murmur__239_1309195730333_B.wav\n",
      "./heartbeat-sounds/set_b/murmur__239_1309195730333_C.wav\n",
      "./heartbeat-sounds/set_b/murmur__240_1309196119795_B.wav\n",
      "./heartbeat-sounds/set_b/murmur__240_1309196119795_C.wav\n",
      "./heartbeat-sounds/set_b/murmur__240_1309201366049_B.wav\n",
      "./heartbeat-sounds/set_b/murmur__242_1309197394064_B.wav\n",
      "./heartbeat-sounds/set_b/murmur__242_1309197394064_D.wav\n",
      "./heartbeat-sounds/set_b/murmur__244_1309198148498_B.wav\n",
      "./heartbeat-sounds/set_b/murmur__245_1309200438094_B.wav\n",
      "./heartbeat-sounds/set_b/murmur__248_1309201683806_A.wav\n",
      "./heartbeat-sounds/set_b/murmur__248_1309201683806_C.wav\n",
      "./heartbeat-sounds/set_b/murmur__254_1309350589009_A.wav\n",
      "./heartbeat-sounds/set_b/murmur__254_1309350589009_A1.wav\n",
      "./heartbeat-sounds/set_b/murmur__254_1309350589009_C.wav\n",
      "./heartbeat-sounds/set_b/murmur__254_1309350589009_D.wav\n",
      "./heartbeat-sounds/set_b/murmur__276_1311162716489_C.wav\n",
      "./heartbeat-sounds/set_b/murmur__281_1311165683454_A.wav\n",
      "./heartbeat-sounds/set_b/murmur__281_1311165683454_B.wav\n",
      "./heartbeat-sounds/set_b/murmur__281_1311165683454_D.wav\n",
      "./heartbeat-sounds/set_b/murmur__287_1311170903290_C.wav\n",
      "./heartbeat-sounds/set_b/murmur__288_1311164615284_D.wav\n",
      "./heartbeat-sounds/set_b/murmur__292_1311185449649_B.wav\n",
      "./heartbeat-sounds/set_b/murmur__292_1311185449649_C.wav\n",
      "./heartbeat-sounds/set_b/murmur__293_1311680805936_B1.wav\n"
     ]
    }
   ],
   "source": [
    "murmur_df = pd.DataFrame()\n",
    "for filename in os.listdir(directory):\n",
    "    if filename.endswith(\".wav\") and fnmatch.fnmatch(filename, '*murmur__*'):\n",
    "        FNAME = os.path.join(directory, filename)\n",
    "        print(FNAME)\n",
    "    \n",
    "        f = wave.open(FNAME)\n",
    "        frames = f.readframes(-1)\n",
    "        samples = struct.unpack('h'*f.getnframes(), frames)\n",
    "        \n",
    "        temp_df = pd.DataFrame(list(samples))\n",
    "        murmur_df = murmur_df.append(temp_df.T,ignore_index=True)\n",
    "        continue\n",
    "    else:\n",
    "        continue"
   ]
  },
  {
   "cell_type": "code",
   "execution_count": 8,
   "metadata": {
    "collapsed": false
   },
   "outputs": [
    {
     "name": "stdout",
     "output_type": "stream",
     "text": [
      "(66, 96640)\n"
     ]
    }
   ],
   "source": [
    "print(murmur_df.shape)"
   ]
  },
  {
   "cell_type": "code",
   "execution_count": 9,
   "metadata": {
    "collapsed": false
   },
   "outputs": [
    {
     "name": "stdout",
     "output_type": "stream",
     "text": [
      "(54, 44100)\n"
     ]
    }
   ],
   "source": [
    "y = pd.DataFrame()\n",
    "y = murmur_df.T[:44100]\n",
    "y_train = np.array(y.T[:54])\n",
    "print(y_train.shape)"
   ]
  },
  {
   "cell_type": "code",
   "execution_count": 10,
   "metadata": {
    "collapsed": false
   },
   "outputs": [
    {
     "name": "stdout",
     "output_type": "stream",
     "text": [
      "(6, 44100)\n"
     ]
    }
   ],
   "source": [
    "y_test = np.array(y.T[54:60])\n",
    "print(y_test.shape)"
   ]
  },
  {
   "cell_type": "code",
   "execution_count": 11,
   "metadata": {
    "collapsed": false
   },
   "outputs": [
    {
     "name": "stdout",
     "output_type": "stream",
     "text": [
      "(6, 44100)\n"
     ]
    }
   ],
   "source": [
    "y_validate = np.array(y.T[60:])\n",
    "print(y_validate.shape)"
   ]
  },
  {
   "cell_type": "code",
   "execution_count": 12,
   "metadata": {
    "collapsed": false
   },
   "outputs": [
    {
     "name": "stderr",
     "output_type": "stream",
     "text": [
      "Using TensorFlow backend.\n"
     ]
    }
   ],
   "source": [
    "import keras\n",
    "import kapre\n",
    "from keras.models import Sequential\n",
    "from kapre.time_frequency import Spectrogram\n",
    "import pylab"
   ]
  },
  {
   "cell_type": "code",
   "execution_count": 14,
   "metadata": {
    "collapsed": false
   },
   "outputs": [
    {
     "ename": "AssertionError",
     "evalue": "Hey! The input is too short!",
     "output_type": "error",
     "traceback": [
      "\u001b[0;31m---------------------------------------------------------------------------\u001b[0m",
      "\u001b[0;31mAssertionError\u001b[0m                            Traceback (most recent call last)",
      "\u001b[0;32m<ipython-input-14-d9a2aec70296>\u001b[0m in \u001b[0;36m<module>\u001b[0;34m()\u001b[0m\n\u001b[1;32m      2\u001b[0m model.add(Melspectrogram(n_dft=512, n_hop=256, input_shape=x_train.shape, \n\u001b[1;32m      3\u001b[0m           \u001b[0mreturn_decibel_spectrogram\u001b[0m\u001b[0;34m=\u001b[0m\u001b[0mTrue\u001b[0m\u001b[0;34m,\u001b[0m \u001b[0mpower_spectrogram\u001b[0m\u001b[0;34m=\u001b[0m\u001b[0;36m2.0\u001b[0m\u001b[0;34m,\u001b[0m\u001b[0;34m\u001b[0m\u001b[0m\n\u001b[0;32m----> 4\u001b[0;31m           trainable_kernel=False, name='static_stft'))\n\u001b[0m\u001b[1;32m      5\u001b[0m \u001b[0mmodel\u001b[0m\u001b[0;34m.\u001b[0m\u001b[0madd\u001b[0m\u001b[0;34m(\u001b[0m\u001b[0mkeras\u001b[0m\u001b[0;34m.\u001b[0m\u001b[0mlayers\u001b[0m\u001b[0;34m.\u001b[0m\u001b[0mConvolution2D\u001b[0m\u001b[0;34m(\u001b[0m\u001b[0;36m32\u001b[0m\u001b[0;34m,\u001b[0m \u001b[0;34m(\u001b[0m\u001b[0;36m3\u001b[0m\u001b[0;34m,\u001b[0m \u001b[0;36m3\u001b[0m\u001b[0;34m)\u001b[0m\u001b[0;34m,\u001b[0m \u001b[0mname\u001b[0m\u001b[0;34m=\u001b[0m\u001b[0;34m'conv1'\u001b[0m\u001b[0;34m,\u001b[0m \u001b[0mactivation\u001b[0m\u001b[0;34m=\u001b[0m\u001b[0;34m'relu'\u001b[0m\u001b[0;34m)\u001b[0m\u001b[0;34m)\u001b[0m\u001b[0;34m\u001b[0m\u001b[0m\n\u001b[1;32m      6\u001b[0m \u001b[0mmodel\u001b[0m\u001b[0;34m.\u001b[0m\u001b[0madd\u001b[0m\u001b[0;34m(\u001b[0m\u001b[0mkeras\u001b[0m\u001b[0;34m.\u001b[0m\u001b[0mlayers\u001b[0m\u001b[0;34m.\u001b[0m\u001b[0mMaxPooling2D\u001b[0m\u001b[0;34m(\u001b[0m\u001b[0;34m(\u001b[0m\u001b[0;36m25\u001b[0m\u001b[0;34m,\u001b[0m \u001b[0;36m17\u001b[0m\u001b[0;34m)\u001b[0m\u001b[0;34m)\u001b[0m\u001b[0;34m)\u001b[0m\u001b[0;34m\u001b[0m\u001b[0m\n",
      "\u001b[0;32m/usr/local/lib/python2.7/dist-packages/keras/models.pyc\u001b[0m in \u001b[0;36madd\u001b[0;34m(self, layer)\u001b[0m\n\u001b[1;32m    428\u001b[0m                 \u001b[0;31m# and create the node connecting the current layer\u001b[0m\u001b[0;34m\u001b[0m\u001b[0;34m\u001b[0m\u001b[0m\n\u001b[1;32m    429\u001b[0m                 \u001b[0;31m# to the input layer we just created.\u001b[0m\u001b[0;34m\u001b[0m\u001b[0;34m\u001b[0m\u001b[0m\n\u001b[0;32m--> 430\u001b[0;31m                 \u001b[0mlayer\u001b[0m\u001b[0;34m(\u001b[0m\u001b[0mx\u001b[0m\u001b[0;34m)\u001b[0m\u001b[0;34m\u001b[0m\u001b[0m\n\u001b[0m\u001b[1;32m    431\u001b[0m \u001b[0;34m\u001b[0m\u001b[0m\n\u001b[1;32m    432\u001b[0m             \u001b[0;32mif\u001b[0m \u001b[0mlen\u001b[0m\u001b[0;34m(\u001b[0m\u001b[0mlayer\u001b[0m\u001b[0;34m.\u001b[0m\u001b[0minbound_nodes\u001b[0m\u001b[0;34m)\u001b[0m \u001b[0;34m!=\u001b[0m \u001b[0;36m1\u001b[0m\u001b[0;34m:\u001b[0m\u001b[0;34m\u001b[0m\u001b[0m\n",
      "\u001b[0;32m/usr/local/lib/python2.7/dist-packages/keras/engine/topology.pyc\u001b[0m in \u001b[0;36m__call__\u001b[0;34m(self, inputs, **kwargs)\u001b[0m\n\u001b[1;32m    549\u001b[0m                                          '`layer.build(batch_input_shape)`')\n\u001b[1;32m    550\u001b[0m                 \u001b[0;32mif\u001b[0m \u001b[0mlen\u001b[0m\u001b[0;34m(\u001b[0m\u001b[0minput_shapes\u001b[0m\u001b[0;34m)\u001b[0m \u001b[0;34m==\u001b[0m \u001b[0;36m1\u001b[0m\u001b[0;34m:\u001b[0m\u001b[0;34m\u001b[0m\u001b[0m\n\u001b[0;32m--> 551\u001b[0;31m                     \u001b[0mself\u001b[0m\u001b[0;34m.\u001b[0m\u001b[0mbuild\u001b[0m\u001b[0;34m(\u001b[0m\u001b[0minput_shapes\u001b[0m\u001b[0;34m[\u001b[0m\u001b[0;36m0\u001b[0m\u001b[0;34m]\u001b[0m\u001b[0;34m)\u001b[0m\u001b[0;34m\u001b[0m\u001b[0m\n\u001b[0m\u001b[1;32m    552\u001b[0m                 \u001b[0;32melse\u001b[0m\u001b[0;34m:\u001b[0m\u001b[0;34m\u001b[0m\u001b[0m\n\u001b[1;32m    553\u001b[0m                     \u001b[0mself\u001b[0m\u001b[0;34m.\u001b[0m\u001b[0mbuild\u001b[0m\u001b[0;34m(\u001b[0m\u001b[0minput_shapes\u001b[0m\u001b[0;34m)\u001b[0m\u001b[0;34m\u001b[0m\u001b[0m\n",
      "\u001b[0;32m/usr/local/lib/python2.7/dist-packages/kapre-0.0.3.1-py2.7.egg/kapre/time_frequency.pyc\u001b[0m in \u001b[0;36mbuild\u001b[0;34m(self, input_shape)\u001b[0m\n\u001b[1;32m    343\u001b[0m \u001b[0;34m\u001b[0m\u001b[0m\n\u001b[1;32m    344\u001b[0m     \u001b[0;32mdef\u001b[0m \u001b[0mbuild\u001b[0m\u001b[0;34m(\u001b[0m\u001b[0mself\u001b[0m\u001b[0;34m,\u001b[0m \u001b[0minput_shape\u001b[0m\u001b[0;34m)\u001b[0m\u001b[0;34m:\u001b[0m\u001b[0;34m\u001b[0m\u001b[0m\n\u001b[0;32m--> 345\u001b[0;31m         \u001b[0msuper\u001b[0m\u001b[0;34m(\u001b[0m\u001b[0mMelspectrogram\u001b[0m\u001b[0;34m,\u001b[0m \u001b[0mself\u001b[0m\u001b[0;34m)\u001b[0m\u001b[0;34m.\u001b[0m\u001b[0mbuild\u001b[0m\u001b[0;34m(\u001b[0m\u001b[0minput_shape\u001b[0m\u001b[0;34m)\u001b[0m\u001b[0;34m\u001b[0m\u001b[0m\n\u001b[0m\u001b[1;32m    346\u001b[0m         \u001b[0mself\u001b[0m\u001b[0;34m.\u001b[0m\u001b[0mbuilt\u001b[0m \u001b[0;34m=\u001b[0m \u001b[0mFalse\u001b[0m\u001b[0;34m\u001b[0m\u001b[0m\n\u001b[1;32m    347\u001b[0m         \u001b[0;31m# compute freq2mel matrix -->\u001b[0m\u001b[0;34m\u001b[0m\u001b[0;34m\u001b[0m\u001b[0m\n",
      "\u001b[0;32m/usr/local/lib/python2.7/dist-packages/kapre-0.0.3.1-py2.7.egg/kapre/time_frequency.pyc\u001b[0m in \u001b[0;36mbuild\u001b[0;34m(self, input_shape)\u001b[0m\n\u001b[1;32m    160\u001b[0m         \u001b[0;32melse\u001b[0m\u001b[0;34m:\u001b[0m\u001b[0;34m\u001b[0m\u001b[0m\n\u001b[1;32m    161\u001b[0m             \u001b[0mself\u001b[0m\u001b[0;34m.\u001b[0m\u001b[0mch_axis_idx\u001b[0m \u001b[0;34m=\u001b[0m \u001b[0;36m3\u001b[0m\u001b[0;34m\u001b[0m\u001b[0m\n\u001b[0;32m--> 162\u001b[0;31m         \u001b[0;32massert\u001b[0m \u001b[0mself\u001b[0m\u001b[0;34m.\u001b[0m\u001b[0mlen_src\u001b[0m \u001b[0;34m>=\u001b[0m \u001b[0mself\u001b[0m\u001b[0;34m.\u001b[0m\u001b[0mn_dft\u001b[0m\u001b[0;34m,\u001b[0m \u001b[0;34m'Hey! The input is too short!'\u001b[0m\u001b[0;34m\u001b[0m\u001b[0m\n\u001b[0m\u001b[1;32m    163\u001b[0m \u001b[0;34m\u001b[0m\u001b[0m\n\u001b[1;32m    164\u001b[0m         self.n_frame = conv_output_length(self.len_src,\n",
      "\u001b[0;31mAssertionError\u001b[0m: Hey! The input is too short!"
     ]
    }
   ],
   "source": [
    "model = Sequential()\n",
    "model.add(Spectrogram(n_dft=512, n_hop=256, input_shape=x_train.shape, \n",
    "          return_decibel_spectrogram=True, power_spectrogram=2.0, \n",
    "          trainable_kernel=False, name='static_stft'))\n",
    "model.add(keras.layers.Convolution2D(32, (3, 3), name='conv1', activation='relu'))\n",
    "model.add(keras.layers.MaxPooling2D((25, 17)))\n",
    "model.add(keras.layers.Convolution2D(32, (10, 10), name='conv2', activation='relu'))\n",
    "model.add(keras.layers.Flatten())\n",
    "model.add(keras.layers.Dense(10, activation='softmax'))\n",
    "model.summary(line_length=80, positions=[.33, .65, .8, 1.])"
   ]
  }
 ],
 "metadata": {
  "kernelspec": {
   "display_name": "Python 2",
   "language": "python",
   "name": "python2"
  },
  "language_info": {
   "codemirror_mode": {
    "name": "ipython",
    "version": 2
   },
   "file_extension": ".py",
   "mimetype": "text/x-python",
   "name": "python",
   "nbconvert_exporter": "python",
   "pygments_lexer": "ipython2",
   "version": "2.7.12"
  }
 },
 "nbformat": 4,
 "nbformat_minor": 2
}
